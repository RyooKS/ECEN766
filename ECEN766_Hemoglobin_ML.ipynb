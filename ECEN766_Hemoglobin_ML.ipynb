{
  "nbformat": 4,
  "nbformat_minor": 0,
  "metadata": {
    "colab": {
      "provenance": []
    },
    "kernelspec": {
      "name": "python3",
      "display_name": "Python 3"
    },
    "language_info": {
      "name": "python"
    }
  },
  "cells": [
    {
      "cell_type": "code",
      "source": [
        "!pip install torchmetrics\n",
        "!pip install torchvision\n",
        "\n",
        "import torchvision\n",
        "import torchmetrics"
      ],
      "metadata": {
        "colab": {
          "base_uri": "https://localhost:8080/"
        },
        "id": "NZDzRg18LBOM",
        "outputId": "d2394a34-52c3-4a10-f5ad-cc9168ab3fad"
      },
      "execution_count": null,
      "outputs": [
        {
          "output_type": "stream",
          "name": "stdout",
          "text": [
            "Collecting torchmetrics\n",
            "  Downloading torchmetrics-1.7.1-py3-none-any.whl.metadata (21 kB)\n",
            "Requirement already satisfied: numpy>1.20.0 in /usr/local/lib/python3.11/dist-packages (from torchmetrics) (2.0.2)\n",
            "Requirement already satisfied: packaging>17.1 in /usr/local/lib/python3.11/dist-packages (from torchmetrics) (24.2)\n",
            "Requirement already satisfied: torch>=2.0.0 in /usr/local/lib/python3.11/dist-packages (from torchmetrics) (2.6.0+cu124)\n",
            "Collecting lightning-utilities>=0.8.0 (from torchmetrics)\n",
            "  Downloading lightning_utilities-0.14.3-py3-none-any.whl.metadata (5.6 kB)\n",
            "Requirement already satisfied: setuptools in /usr/local/lib/python3.11/dist-packages (from lightning-utilities>=0.8.0->torchmetrics) (75.2.0)\n",
            "Requirement already satisfied: typing_extensions in /usr/local/lib/python3.11/dist-packages (from lightning-utilities>=0.8.0->torchmetrics) (4.13.1)\n",
            "Requirement already satisfied: filelock in /usr/local/lib/python3.11/dist-packages (from torch>=2.0.0->torchmetrics) (3.18.0)\n",
            "Requirement already satisfied: networkx in /usr/local/lib/python3.11/dist-packages (from torch>=2.0.0->torchmetrics) (3.4.2)\n",
            "Requirement already satisfied: jinja2 in /usr/local/lib/python3.11/dist-packages (from torch>=2.0.0->torchmetrics) (3.1.6)\n",
            "Requirement already satisfied: fsspec in /usr/local/lib/python3.11/dist-packages (from torch>=2.0.0->torchmetrics) (2025.3.2)\n",
            "Collecting nvidia-cuda-nvrtc-cu12==12.4.127 (from torch>=2.0.0->torchmetrics)\n",
            "  Downloading nvidia_cuda_nvrtc_cu12-12.4.127-py3-none-manylinux2014_x86_64.whl.metadata (1.5 kB)\n",
            "Collecting nvidia-cuda-runtime-cu12==12.4.127 (from torch>=2.0.0->torchmetrics)\n",
            "  Downloading nvidia_cuda_runtime_cu12-12.4.127-py3-none-manylinux2014_x86_64.whl.metadata (1.5 kB)\n",
            "Collecting nvidia-cuda-cupti-cu12==12.4.127 (from torch>=2.0.0->torchmetrics)\n",
            "  Downloading nvidia_cuda_cupti_cu12-12.4.127-py3-none-manylinux2014_x86_64.whl.metadata (1.6 kB)\n",
            "Collecting nvidia-cudnn-cu12==9.1.0.70 (from torch>=2.0.0->torchmetrics)\n",
            "  Downloading nvidia_cudnn_cu12-9.1.0.70-py3-none-manylinux2014_x86_64.whl.metadata (1.6 kB)\n",
            "Collecting nvidia-cublas-cu12==12.4.5.8 (from torch>=2.0.0->torchmetrics)\n",
            "  Downloading nvidia_cublas_cu12-12.4.5.8-py3-none-manylinux2014_x86_64.whl.metadata (1.5 kB)\n",
            "Collecting nvidia-cufft-cu12==11.2.1.3 (from torch>=2.0.0->torchmetrics)\n",
            "  Downloading nvidia_cufft_cu12-11.2.1.3-py3-none-manylinux2014_x86_64.whl.metadata (1.5 kB)\n",
            "Collecting nvidia-curand-cu12==10.3.5.147 (from torch>=2.0.0->torchmetrics)\n",
            "  Downloading nvidia_curand_cu12-10.3.5.147-py3-none-manylinux2014_x86_64.whl.metadata (1.5 kB)\n",
            "Collecting nvidia-cusolver-cu12==11.6.1.9 (from torch>=2.0.0->torchmetrics)\n",
            "  Downloading nvidia_cusolver_cu12-11.6.1.9-py3-none-manylinux2014_x86_64.whl.metadata (1.6 kB)\n",
            "Collecting nvidia-cusparse-cu12==12.3.1.170 (from torch>=2.0.0->torchmetrics)\n",
            "  Downloading nvidia_cusparse_cu12-12.3.1.170-py3-none-manylinux2014_x86_64.whl.metadata (1.6 kB)\n",
            "Requirement already satisfied: nvidia-cusparselt-cu12==0.6.2 in /usr/local/lib/python3.11/dist-packages (from torch>=2.0.0->torchmetrics) (0.6.2)\n",
            "Requirement already satisfied: nvidia-nccl-cu12==2.21.5 in /usr/local/lib/python3.11/dist-packages (from torch>=2.0.0->torchmetrics) (2.21.5)\n",
            "Requirement already satisfied: nvidia-nvtx-cu12==12.4.127 in /usr/local/lib/python3.11/dist-packages (from torch>=2.0.0->torchmetrics) (12.4.127)\n",
            "Collecting nvidia-nvjitlink-cu12==12.4.127 (from torch>=2.0.0->torchmetrics)\n",
            "  Downloading nvidia_nvjitlink_cu12-12.4.127-py3-none-manylinux2014_x86_64.whl.metadata (1.5 kB)\n",
            "Requirement already satisfied: triton==3.2.0 in /usr/local/lib/python3.11/dist-packages (from torch>=2.0.0->torchmetrics) (3.2.0)\n",
            "Requirement already satisfied: sympy==1.13.1 in /usr/local/lib/python3.11/dist-packages (from torch>=2.0.0->torchmetrics) (1.13.1)\n",
            "Requirement already satisfied: mpmath<1.4,>=1.1.0 in /usr/local/lib/python3.11/dist-packages (from sympy==1.13.1->torch>=2.0.0->torchmetrics) (1.3.0)\n",
            "Requirement already satisfied: MarkupSafe>=2.0 in /usr/local/lib/python3.11/dist-packages (from jinja2->torch>=2.0.0->torchmetrics) (3.0.2)\n",
            "Downloading torchmetrics-1.7.1-py3-none-any.whl (961 kB)\n",
            "\u001b[2K   \u001b[90m━━━━━━━━━━━━━━━━━━━━━━━━━━━━━━━━━━━━━━━━\u001b[0m \u001b[32m961.5/961.5 kB\u001b[0m \u001b[31m14.3 MB/s\u001b[0m eta \u001b[36m0:00:00\u001b[0m\n",
            "\u001b[?25hDownloading lightning_utilities-0.14.3-py3-none-any.whl (28 kB)\n",
            "Downloading nvidia_cublas_cu12-12.4.5.8-py3-none-manylinux2014_x86_64.whl (363.4 MB)\n",
            "\u001b[2K   \u001b[90m━━━━━━━━━━━━━━━━━━━━━━━━━━━━━━━━━━━━━━━━\u001b[0m \u001b[32m363.4/363.4 MB\u001b[0m \u001b[31m4.6 MB/s\u001b[0m eta \u001b[36m0:00:00\u001b[0m\n",
            "\u001b[?25hDownloading nvidia_cuda_cupti_cu12-12.4.127-py3-none-manylinux2014_x86_64.whl (13.8 MB)\n",
            "\u001b[2K   \u001b[90m━━━━━━━━━━━━━━━━━━━━━━━━━━━━━━━━━━━━━━━━\u001b[0m \u001b[32m13.8/13.8 MB\u001b[0m \u001b[31m87.9 MB/s\u001b[0m eta \u001b[36m0:00:00\u001b[0m\n",
            "\u001b[?25hDownloading nvidia_cuda_nvrtc_cu12-12.4.127-py3-none-manylinux2014_x86_64.whl (24.6 MB)\n",
            "\u001b[2K   \u001b[90m━━━━━━━━━━━━━━━━━━━━━━━━━━━━━━━━━━━━━━━━\u001b[0m \u001b[32m24.6/24.6 MB\u001b[0m \u001b[31m68.2 MB/s\u001b[0m eta \u001b[36m0:00:00\u001b[0m\n",
            "\u001b[?25hDownloading nvidia_cuda_runtime_cu12-12.4.127-py3-none-manylinux2014_x86_64.whl (883 kB)\n",
            "\u001b[2K   \u001b[90m━━━━━━━━━━━━━━━━━━━━━━━━━━━━━━━━━━━━━━━━\u001b[0m \u001b[32m883.7/883.7 kB\u001b[0m \u001b[31m34.9 MB/s\u001b[0m eta \u001b[36m0:00:00\u001b[0m\n",
            "\u001b[?25hDownloading nvidia_cudnn_cu12-9.1.0.70-py3-none-manylinux2014_x86_64.whl (664.8 MB)\n",
            "\u001b[2K   \u001b[90m━━━━━━━━━━━━━━━━━━━━━━━━━━━━━━━━━━━━━━━━\u001b[0m \u001b[32m664.8/664.8 MB\u001b[0m \u001b[31m1.9 MB/s\u001b[0m eta \u001b[36m0:00:00\u001b[0m\n",
            "\u001b[?25hDownloading nvidia_cufft_cu12-11.2.1.3-py3-none-manylinux2014_x86_64.whl (211.5 MB)\n",
            "\u001b[2K   \u001b[90m━━━━━━━━━━━━━━━━━━━━━━━━━━━━━━━━━━━━━━━━\u001b[0m \u001b[32m211.5/211.5 MB\u001b[0m \u001b[31m6.1 MB/s\u001b[0m eta \u001b[36m0:00:00\u001b[0m\n",
            "\u001b[?25hDownloading nvidia_curand_cu12-10.3.5.147-py3-none-manylinux2014_x86_64.whl (56.3 MB)\n",
            "\u001b[2K   \u001b[90m━━━━━━━━━━━━━━━━━━━━━━━━━━━━━━━━━━━━━━━━\u001b[0m \u001b[32m56.3/56.3 MB\u001b[0m \u001b[31m11.9 MB/s\u001b[0m eta \u001b[36m0:00:00\u001b[0m\n",
            "\u001b[?25hDownloading nvidia_cusolver_cu12-11.6.1.9-py3-none-manylinux2014_x86_64.whl (127.9 MB)\n",
            "\u001b[2K   \u001b[90m━━━━━━━━━━━━━━━━━━━━━━━━━━━━━━━━━━━━━━━━\u001b[0m \u001b[32m127.9/127.9 MB\u001b[0m \u001b[31m10.1 MB/s\u001b[0m eta \u001b[36m0:00:00\u001b[0m\n",
            "\u001b[?25hDownloading nvidia_cusparse_cu12-12.3.1.170-py3-none-manylinux2014_x86_64.whl (207.5 MB)\n",
            "\u001b[2K   \u001b[90m━━━━━━━━━━━━━━━━━━━━━━━━━━━━━━━━━━━━━━━━\u001b[0m \u001b[32m207.5/207.5 MB\u001b[0m \u001b[31m5.6 MB/s\u001b[0m eta \u001b[36m0:00:00\u001b[0m\n",
            "\u001b[?25hDownloading nvidia_nvjitlink_cu12-12.4.127-py3-none-manylinux2014_x86_64.whl (21.1 MB)\n",
            "\u001b[2K   \u001b[90m━━━━━━━━━━━━━━━━━━━━━━━━━━━━━━━━━━━━━━━━\u001b[0m \u001b[32m21.1/21.1 MB\u001b[0m \u001b[31m73.6 MB/s\u001b[0m eta \u001b[36m0:00:00\u001b[0m\n",
            "\u001b[?25hInstalling collected packages: nvidia-nvjitlink-cu12, nvidia-curand-cu12, nvidia-cufft-cu12, nvidia-cuda-runtime-cu12, nvidia-cuda-nvrtc-cu12, nvidia-cuda-cupti-cu12, nvidia-cublas-cu12, lightning-utilities, nvidia-cusparse-cu12, nvidia-cudnn-cu12, nvidia-cusolver-cu12, torchmetrics\n",
            "  Attempting uninstall: nvidia-nvjitlink-cu12\n",
            "    Found existing installation: nvidia-nvjitlink-cu12 12.5.82\n",
            "    Uninstalling nvidia-nvjitlink-cu12-12.5.82:\n",
            "      Successfully uninstalled nvidia-nvjitlink-cu12-12.5.82\n",
            "  Attempting uninstall: nvidia-curand-cu12\n",
            "    Found existing installation: nvidia-curand-cu12 10.3.6.82\n",
            "    Uninstalling nvidia-curand-cu12-10.3.6.82:\n",
            "      Successfully uninstalled nvidia-curand-cu12-10.3.6.82\n",
            "  Attempting uninstall: nvidia-cufft-cu12\n",
            "    Found existing installation: nvidia-cufft-cu12 11.2.3.61\n",
            "    Uninstalling nvidia-cufft-cu12-11.2.3.61:\n",
            "      Successfully uninstalled nvidia-cufft-cu12-11.2.3.61\n",
            "  Attempting uninstall: nvidia-cuda-runtime-cu12\n",
            "    Found existing installation: nvidia-cuda-runtime-cu12 12.5.82\n",
            "    Uninstalling nvidia-cuda-runtime-cu12-12.5.82:\n",
            "      Successfully uninstalled nvidia-cuda-runtime-cu12-12.5.82\n",
            "  Attempting uninstall: nvidia-cuda-nvrtc-cu12\n",
            "    Found existing installation: nvidia-cuda-nvrtc-cu12 12.5.82\n",
            "    Uninstalling nvidia-cuda-nvrtc-cu12-12.5.82:\n",
            "      Successfully uninstalled nvidia-cuda-nvrtc-cu12-12.5.82\n",
            "  Attempting uninstall: nvidia-cuda-cupti-cu12\n",
            "    Found existing installation: nvidia-cuda-cupti-cu12 12.5.82\n",
            "    Uninstalling nvidia-cuda-cupti-cu12-12.5.82:\n",
            "      Successfully uninstalled nvidia-cuda-cupti-cu12-12.5.82\n",
            "  Attempting uninstall: nvidia-cublas-cu12\n",
            "    Found existing installation: nvidia-cublas-cu12 12.5.3.2\n",
            "    Uninstalling nvidia-cublas-cu12-12.5.3.2:\n",
            "      Successfully uninstalled nvidia-cublas-cu12-12.5.3.2\n",
            "  Attempting uninstall: nvidia-cusparse-cu12\n",
            "    Found existing installation: nvidia-cusparse-cu12 12.5.1.3\n",
            "    Uninstalling nvidia-cusparse-cu12-12.5.1.3:\n",
            "      Successfully uninstalled nvidia-cusparse-cu12-12.5.1.3\n",
            "  Attempting uninstall: nvidia-cudnn-cu12\n",
            "    Found existing installation: nvidia-cudnn-cu12 9.3.0.75\n",
            "    Uninstalling nvidia-cudnn-cu12-9.3.0.75:\n",
            "      Successfully uninstalled nvidia-cudnn-cu12-9.3.0.75\n",
            "  Attempting uninstall: nvidia-cusolver-cu12\n",
            "    Found existing installation: nvidia-cusolver-cu12 11.6.3.83\n",
            "    Uninstalling nvidia-cusolver-cu12-11.6.3.83:\n",
            "      Successfully uninstalled nvidia-cusolver-cu12-11.6.3.83\n",
            "Successfully installed lightning-utilities-0.14.3 nvidia-cublas-cu12-12.4.5.8 nvidia-cuda-cupti-cu12-12.4.127 nvidia-cuda-nvrtc-cu12-12.4.127 nvidia-cuda-runtime-cu12-12.4.127 nvidia-cudnn-cu12-9.1.0.70 nvidia-cufft-cu12-11.2.1.3 nvidia-curand-cu12-10.3.5.147 nvidia-cusolver-cu12-11.6.1.9 nvidia-cusparse-cu12-12.3.1.170 nvidia-nvjitlink-cu12-12.4.127 torchmetrics-1.7.1\n",
            "Requirement already satisfied: torchvision in /usr/local/lib/python3.11/dist-packages (0.21.0+cu124)\n",
            "Requirement already satisfied: numpy in /usr/local/lib/python3.11/dist-packages (from torchvision) (2.0.2)\n",
            "Requirement already satisfied: torch==2.6.0 in /usr/local/lib/python3.11/dist-packages (from torchvision) (2.6.0+cu124)\n",
            "Requirement already satisfied: pillow!=8.3.*,>=5.3.0 in /usr/local/lib/python3.11/dist-packages (from torchvision) (11.1.0)\n",
            "Requirement already satisfied: filelock in /usr/local/lib/python3.11/dist-packages (from torch==2.6.0->torchvision) (3.18.0)\n",
            "Requirement already satisfied: typing-extensions>=4.10.0 in /usr/local/lib/python3.11/dist-packages (from torch==2.6.0->torchvision) (4.13.1)\n",
            "Requirement already satisfied: networkx in /usr/local/lib/python3.11/dist-packages (from torch==2.6.0->torchvision) (3.4.2)\n",
            "Requirement already satisfied: jinja2 in /usr/local/lib/python3.11/dist-packages (from torch==2.6.0->torchvision) (3.1.6)\n",
            "Requirement already satisfied: fsspec in /usr/local/lib/python3.11/dist-packages (from torch==2.6.0->torchvision) (2025.3.2)\n",
            "Requirement already satisfied: nvidia-cuda-nvrtc-cu12==12.4.127 in /usr/local/lib/python3.11/dist-packages (from torch==2.6.0->torchvision) (12.4.127)\n",
            "Requirement already satisfied: nvidia-cuda-runtime-cu12==12.4.127 in /usr/local/lib/python3.11/dist-packages (from torch==2.6.0->torchvision) (12.4.127)\n",
            "Requirement already satisfied: nvidia-cuda-cupti-cu12==12.4.127 in /usr/local/lib/python3.11/dist-packages (from torch==2.6.0->torchvision) (12.4.127)\n",
            "Requirement already satisfied: nvidia-cudnn-cu12==9.1.0.70 in /usr/local/lib/python3.11/dist-packages (from torch==2.6.0->torchvision) (9.1.0.70)\n",
            "Requirement already satisfied: nvidia-cublas-cu12==12.4.5.8 in /usr/local/lib/python3.11/dist-packages (from torch==2.6.0->torchvision) (12.4.5.8)\n",
            "Requirement already satisfied: nvidia-cufft-cu12==11.2.1.3 in /usr/local/lib/python3.11/dist-packages (from torch==2.6.0->torchvision) (11.2.1.3)\n",
            "Requirement already satisfied: nvidia-curand-cu12==10.3.5.147 in /usr/local/lib/python3.11/dist-packages (from torch==2.6.0->torchvision) (10.3.5.147)\n",
            "Requirement already satisfied: nvidia-cusolver-cu12==11.6.1.9 in /usr/local/lib/python3.11/dist-packages (from torch==2.6.0->torchvision) (11.6.1.9)\n",
            "Requirement already satisfied: nvidia-cusparse-cu12==12.3.1.170 in /usr/local/lib/python3.11/dist-packages (from torch==2.6.0->torchvision) (12.3.1.170)\n",
            "Requirement already satisfied: nvidia-cusparselt-cu12==0.6.2 in /usr/local/lib/python3.11/dist-packages (from torch==2.6.0->torchvision) (0.6.2)\n",
            "Requirement already satisfied: nvidia-nccl-cu12==2.21.5 in /usr/local/lib/python3.11/dist-packages (from torch==2.6.0->torchvision) (2.21.5)\n",
            "Requirement already satisfied: nvidia-nvtx-cu12==12.4.127 in /usr/local/lib/python3.11/dist-packages (from torch==2.6.0->torchvision) (12.4.127)\n",
            "Requirement already satisfied: nvidia-nvjitlink-cu12==12.4.127 in /usr/local/lib/python3.11/dist-packages (from torch==2.6.0->torchvision) (12.4.127)\n",
            "Requirement already satisfied: triton==3.2.0 in /usr/local/lib/python3.11/dist-packages (from torch==2.6.0->torchvision) (3.2.0)\n",
            "Requirement already satisfied: sympy==1.13.1 in /usr/local/lib/python3.11/dist-packages (from torch==2.6.0->torchvision) (1.13.1)\n",
            "Requirement already satisfied: mpmath<1.4,>=1.1.0 in /usr/local/lib/python3.11/dist-packages (from sympy==1.13.1->torch==2.6.0->torchvision) (1.3.0)\n",
            "Requirement already satisfied: MarkupSafe>=2.0 in /usr/local/lib/python3.11/dist-packages (from jinja2->torch==2.6.0->torchvision) (3.0.2)\n"
          ]
        }
      ]
    },
    {
      "cell_type": "code",
      "source": [
        "import csv\n",
        "import numpy as np\n",
        "import matplotlib.pyplot as plt\n",
        "import random"
      ],
      "metadata": {
        "id": "AcJRKBsaB9fb"
      },
      "execution_count": 1,
      "outputs": []
    },
    {
      "cell_type": "code",
      "source": [
        "import torch\n",
        "from torch import optim\n",
        "from torch import nn\n",
        "from torch.utils.data import DataLoader\n",
        "from tqdm import tqdm\n",
        "\n",
        "import torch.nn.functional as F\n",
        "import torchvision.datasets as datasets\n",
        "import torchvision.transforms as transforms"
      ],
      "metadata": {
        "id": "knUmcMRiK8Ee"
      },
      "execution_count": 2,
      "outputs": []
    },
    {
      "cell_type": "code",
      "source": [
        "from sklearn.metrics import r2_score"
      ],
      "metadata": {
        "id": "MgfIHm7Lgsiv"
      },
      "execution_count": 3,
      "outputs": []
    },
    {
      "cell_type": "code",
      "execution_count": 4,
      "metadata": {
        "id": "LE7KA39lBh1n"
      },
      "outputs": [],
      "source": [
        "def ReadSplitDataFile(file_name):\n",
        "  subject = {\"segments\": [], \"id\": -1, \"Age\": -1, \"Height(cm)\": -1, \"Weight(kg)\": -1, \"Hemoglobin(g/L)\": -1, \"Gender\": -1, \"HR\": -1}\n",
        "  with open(file_name) as csv_file:\n",
        "    csv_reader = csv.reader(csv_file, delimiter=',')\n",
        "    line_count = 0\n",
        "    k = 0\n",
        "\n",
        "    red1 = []\n",
        "    red2 = []\n",
        "    ir1 = []\n",
        "    ir2 = []\n",
        "    for row in csv_reader:\n",
        "      if k == 1:\n",
        "        subject[\"id\"] = int(row[4])\n",
        "        subject[\"Age\"] = int(row[5])\n",
        "        subject[\"Height(cm)\"] = float(row[6])\n",
        "        subject[\"Weight(kg)\"] = float(row[7])\n",
        "        subject[\"Hemoglobin(g/L)\"] = float(row[8])\n",
        "        subject[\"HR\"] = int(row[10])\n",
        "\n",
        "        if row[9] == \"male\":\n",
        "          subject[\"Gender\"] = 1\n",
        "        else:\n",
        "          subject[\"Gender\"] = 0\n",
        "\n",
        "      if k > 0:\n",
        "        red1.append(float(row[0]))\n",
        "        red2.append(float(row[1]))\n",
        "        ir1.append(float(row[2]))\n",
        "        ir2.append(float(row[3]))\n",
        "\n",
        "        if len(red1) == 100:\n",
        "          subject[\"segments\"].append([red1, red2, ir1, ir2])\n",
        "          red1 = []\n",
        "          red2 = []\n",
        "          ir1 = []\n",
        "          ir2 = []\n",
        "      k += 1\n",
        "\n",
        "# rationalize and preprocess //normalize and embed using pytorch embedding -> focus on the centeral question and which part of the signals is important(?) interpertable\n",
        "# 1D CNN with 4 channels\n",
        "# End use?\n",
        "# advanced architecture, less features selections ?\n",
        "# ????? keep the kernel small (GX BOOST)\n",
        "\n",
        "\n",
        "  subject[\"segments\"] = np.array(subject[\"segments\"])\n",
        "  return subject"
      ]
    },
    {
      "cell_type": "code",
      "source": [
        "subject = ReadSplitDataFile(\"data/1.csv\")"
      ],
      "metadata": {
        "id": "1rz9sVuKCLfv"
      },
      "execution_count": 5,
      "outputs": []
    },
    {
      "cell_type": "code",
      "source": [
        "subjects = []\n",
        "for i in range(1, 59):\n",
        "  subjects.append(ReadSplitDataFile(\"data/\" + str(i) + \".csv\"))"
      ],
      "metadata": {
        "id": "LhUXWWFfEvPV"
      },
      "execution_count": 6,
      "outputs": []
    },
    {
      "cell_type": "code",
      "source": [
        "plt.plot(subjects[29][\"segments\"][1][3])\n",
        "plt.show()"
      ],
      "metadata": {
        "colab": {
          "base_uri": "https://localhost:8080/",
          "height": 430
        },
        "id": "aKAAFr1JFRpV",
        "outputId": "1450f820-b469-4033-aae3-8cd94974c5c9"
      },
      "execution_count": 7,
      "outputs": [
        {
          "output_type": "display_data",
          "data": {
            "text/plain": [
              "<Figure size 640x480 with 1 Axes>"
            ],
            "image/png": "[encoded data removed]"
          },
          "metadata": {}
        }
      ]
    },
    {
      "cell_type": "code",
      "source": [
        "shuffled_subjects = subjects.copy()\n",
        "random.shuffle(shuffled_subjects)\n",
        "split = int(0.8*len(shuffled_subjects))\n",
        "training_split, test_split = shuffled_subjects[:split], shuffled_subjects[split:len(shuffled_subjects)]"
      ],
      "metadata": {
        "id": "mMeEdEUiHMed"
      },
      "execution_count": 8,
      "outputs": []
    },
    {
      "cell_type": "code",
      "source": [
        "training_data = []\n",
        "\n",
        "for subject in training_split:\n",
        "  for segment in subject[\"segments\"]:\n",
        "    segment_data = {}\n",
        "    segment_data[\"segment\"] = segment\n",
        "    segment_data[\"id\"] = subject[\"id\"]\n",
        "    segment_data[\"Age\"] = subject[\"Age\"]\n",
        "    segment_data[\"Height(cm)\"] = subject[\"Height(cm)\"]\n",
        "    segment_data[\"Weight(kg)\"] = subject[\"Weight(kg)\"]\n",
        "    segment_data[\"Hemoglobin(g/L)\"] = subject[\"Hemoglobin(g/L)\"]\n",
        "    segment_data[\"Gender\"] = subject[\"Gender\"]\n",
        "    segment_data[\"HR\"] = subject[\"HR\"]\n",
        "    training_data.append(segment_data)\n",
        "\n",
        "random.shuffle(training_data)"
      ],
      "metadata": {
        "id": "BfwxBgQLItrc"
      },
      "execution_count": 9,
      "outputs": []
    },
    {
      "cell_type": "code",
      "source": [
        "test_data = []\n",
        "\n",
        "for subject in test_split:\n",
        "  for segment in subject[\"segments\"]:\n",
        "    segment_data = {}\n",
        "    segment_data[\"segment\"] = segment\n",
        "    segment_data[\"id\"] = subject[\"id\"]\n",
        "    segment_data[\"Age\"] = subject[\"Age\"]\n",
        "    segment_data[\"Height(cm)\"] = subject[\"Height(cm)\"]\n",
        "    segment_data[\"Weight(kg)\"] = subject[\"Weight(kg)\"]\n",
        "    segment_data[\"Hemoglobin(g/L)\"] = subject[\"Hemoglobin(g/L)\"]\n",
        "    segment_data[\"Gender\"] = subject[\"Gender\"]\n",
        "    segment_data[\"HR\"] = subject[\"HR\"]\n",
        "    test_data.append(segment_data)\n",
        "\n",
        "random.shuffle(test_data)"
      ],
      "metadata": {
        "id": "rrFIbLRhONRG"
      },
      "execution_count": 10,
      "outputs": []
    },
    {
      "cell_type": "code",
      "source": [
        "print(len(training_data))\n",
        "print(len(test_data))"
      ],
      "metadata": {
        "colab": {
          "base_uri": "https://localhost:8080/"
        },
        "id": "LvLzdbePZi3t",
        "outputId": "b0729302-22b8-4c03-eb0c-f2f7bd8fbdb1"
      },
      "execution_count": 11,
      "outputs": [
        {
          "output_type": "stream",
          "name": "stdout",
          "text": [
            "3551\n",
            "937\n"
          ]
        }
      ]
    },
    {
      "cell_type": "code",
      "source": [
        "train_segments = []\n",
        "train_meta_data = []\n",
        "train_targets = []\n",
        "for segment in training_data:\n",
        "  train_segments.append(segment[\"segment\"])\n",
        "  train_targets.append(segment[\"Hemoglobin(g/L)\"])\n",
        "  train_meta_data.append([segment[\"Age\"], segment[\"Height(cm)\"], segment[\"Weight(kg)\"], segment[\"Gender\"], segment[\"HR\"]])\n",
        "\n",
        "train_segments = np.array(train_segments)\n",
        "train_targets = np.array(train_targets)\n",
        "train_meta_data = np.array(train_meta_data)"
      ],
      "metadata": {
        "id": "zjSqR2lvedNP"
      },
      "execution_count": 12,
      "outputs": []
    },
    {
      "cell_type": "code",
      "source": [
        "train_targets = train_targets.reshape(len(train_targets), 1)\n",
        "print(\"Target shape:\", train_targets.shape)\n",
        "\n",
        "print(\"Segment shape:\", train_segments.shape)\n",
        "print(\"Meta data shape:\", train_meta_data.shape)"
      ],
      "metadata": {
        "colab": {
          "base_uri": "https://localhost:8080/"
        },
        "id": "M3qXJJ3kfBlx",
        "outputId": "026fc7ed-8437-49f8-9731-0545e9d3a6b1"
      },
      "execution_count": 13,
      "outputs": [
        {
          "output_type": "stream",
          "name": "stdout",
          "text": [
            "Target shape: (3551, 1)\n",
            "Segment shape: (3551, 4, 100)\n",
            "Meta data shape: (3551, 5)\n"
          ]
        }
      ]
    },
    {
      "cell_type": "code",
      "source": [
        "class RegressionCNN(nn.Module):\n",
        "  def __init__(self, meta_data_size=5):\n",
        "    super(RegressionCNN, self).__init__()\n",
        "\n",
        "    self.conv1 = nn.Conv2d(1, 32, kernel_size = 1, padding = 1)\n",
        "    self.pool1 = nn.MaxPool2d(kernel_size = 2, stride = 2)\n",
        "\n",
        "    self.conv2 = nn.Conv2d(32, 64, kernel_size = 3, padding = 1)\n",
        "    self.pool2 = nn.MaxPool2d(kernel_size = 2, stride = 2)\n",
        "\n",
        "    self.flatten = nn.Flatten()\n",
        "\n",
        "    self.fc1 = nn.Linear(64 * 1 * 25 + meta_data_size, 128)\n",
        "    self.fc2 = nn.Linear(128, 1)\n",
        "\n",
        "\n",
        "  def forward(self, x, meta_data):\n",
        "    x = self.conv1(x)\n",
        "    x = torch.relu(x)\n",
        "    x = self.pool1(x)\n",
        "\n",
        "    x = self.conv2(x)\n",
        "    x = torch.relu(x)\n",
        "    x = self.pool2(x)\n",
        "\n",
        "    x = self.flatten(x)\n",
        "\n",
        "    x = torch.cat((x, meta_data), dim=1)\n",
        "\n",
        "    x = self.fc1(x)\n",
        "    x = torch.relu(x)\n",
        "    x = self.fc2(x)\n",
        "\n",
        "    return x\n"
      ],
      "metadata": {
        "id": "wvxtVIMXaGH0"
      },
      "execution_count": 20,
      "outputs": []
    },
    {
      "cell_type": "code",
      "source": [
        "model = RegressionCNN()\n",
        "\n",
        "criterion = nn.MSELoss()\n",
        "optimizer = optim.Adam(model.parameters(), lr = 0.001)"
      ],
      "metadata": {
        "id": "LMyseL-vb7_t"
      },
      "execution_count": 18,
      "outputs": []
    },
    {
      "cell_type": "code",
      "source": [
        "num_epochs = 500\n",
        "batch_size = 16\n",
        "\n",
        "for epoch in range(num_epochs):\n",
        "  model.train()\n",
        "  epoch_loss = 0.0\n",
        "\n",
        "  for k in range(0, len(train_segments), batch_size):\n",
        "    batch_data = train_segments[k:k+batch_size]\n",
        "    batch_targets = train_targets[k:k+batch_size]\n",
        "    batch_data = torch.tensor(batch_data, dtype = torch.float32).unsqueeze(1)\n",
        "    batch_meta_data = torch.tensor(train_meta_data[k:k+batch_size], dtype = torch.float32)\n",
        "    batch_targets = torch.tensor(batch_targets, dtype = torch.float32)\n",
        "\n",
        "    optimizer.zero_grad()\n",
        "    outputs = model(batch_data, batch_meta_data)\n",
        "    loss = criterion(outputs, batch_targets)\n",
        "    epoch_loss += loss.item() * batch_data.size(0)\n",
        "    loss.backward()\n",
        "    optimizer.step()\n",
        "\n",
        "  avg_epoch_loss = epoch_loss / len(train_segments)\n",
        "  print(f'Epoch [{epoch+1}/{num_epochs}], Loss: {avg_epoch_loss:.4f}')\n"
      ],
      "metadata": {
        "colab": {
          "base_uri": "https://localhost:8080/"
        },
        "id": "LUL5YBk2cFcN",
        "outputId": "38c7660a-b34e-4e84-ee39-2603b492de52"
      },
      "execution_count": null,
      "outputs": [
        {
          "output_type": "stream",
          "name": "stdout",
          "text": [
            "Epoch [1/500], Loss: 347.9462\n",
            "Epoch [2/500], Loss: 323.5555\n",
            "Epoch [3/500], Loss: 311.0311\n",
            "Epoch [4/500], Loss: 303.2209\n",
            "Epoch [5/500], Loss: 304.8245\n",
            "Epoch [6/500], Loss: 283.0580\n",
            "Epoch [7/500], Loss: 266.1021\n",
            "Epoch [8/500], Loss: 268.3785\n",
            "Epoch [9/500], Loss: 240.7366\n",
            "Epoch [10/500], Loss: 221.5573\n",
            "Epoch [11/500], Loss: 211.6333\n",
            "Epoch [12/500], Loss: 222.1721\n",
            "Epoch [13/500], Loss: 196.7795\n",
            "Epoch [14/500], Loss: 200.6389\n",
            "Epoch [15/500], Loss: 396.9358\n",
            "Epoch [16/500], Loss: 175.6718\n",
            "Epoch [17/500], Loss: 167.8209\n",
            "Epoch [18/500], Loss: 164.2274\n",
            "Epoch [19/500], Loss: 163.4713\n",
            "Epoch [20/500], Loss: 160.5545\n",
            "Epoch [21/500], Loss: 155.7557\n",
            "Epoch [22/500], Loss: 153.0732\n",
            "Epoch [23/500], Loss: 150.6828\n",
            "Epoch [24/500], Loss: 149.2700\n",
            "Epoch [25/500], Loss: 148.2857\n",
            "Epoch [26/500], Loss: 144.3617\n",
            "Epoch [27/500], Loss: 141.0335\n",
            "Epoch [28/500], Loss: 139.6582\n",
            "Epoch [29/500], Loss: 138.6962\n",
            "Epoch [30/500], Loss: 138.2746\n",
            "Epoch [31/500], Loss: 137.6720\n",
            "Epoch [32/500], Loss: 137.5297\n",
            "Epoch [33/500], Loss: 137.2928\n",
            "Epoch [34/500], Loss: 136.6480\n",
            "Epoch [35/500], Loss: 136.3012\n",
            "Epoch [36/500], Loss: 135.8175\n",
            "Epoch [37/500], Loss: 134.9072\n",
            "Epoch [38/500], Loss: 135.1680\n",
            "Epoch [39/500], Loss: 134.6661\n",
            "Epoch [40/500], Loss: 134.5171\n",
            "Epoch [41/500], Loss: 133.9348\n",
            "Epoch [42/500], Loss: 133.7800\n",
            "Epoch [43/500], Loss: 132.0862\n",
            "Epoch [44/500], Loss: 132.5652\n",
            "Epoch [45/500], Loss: 132.3213\n",
            "Epoch [46/500], Loss: 131.6544\n",
            "Epoch [47/500], Loss: 131.9392\n",
            "Epoch [48/500], Loss: 131.2049\n",
            "Epoch [49/500], Loss: 129.5079\n",
            "Epoch [50/500], Loss: 129.7128\n",
            "Epoch [51/500], Loss: 129.8946\n",
            "Epoch [52/500], Loss: 127.6620\n",
            "Epoch [53/500], Loss: 127.5896\n",
            "Epoch [54/500], Loss: 128.3655\n",
            "Epoch [55/500], Loss: 127.4309\n",
            "Epoch [56/500], Loss: 126.4809\n",
            "Epoch [57/500], Loss: 126.4976\n",
            "Epoch [58/500], Loss: 125.7512\n",
            "Epoch [59/500], Loss: 125.3818\n",
            "Epoch [60/500], Loss: 124.1250\n",
            "Epoch [61/500], Loss: 122.9508\n",
            "Epoch [62/500], Loss: 124.0037\n",
            "Epoch [63/500], Loss: 123.8249\n",
            "Epoch [64/500], Loss: 121.9538\n",
            "Epoch [65/500], Loss: 118.9282\n",
            "Epoch [66/500], Loss: 114.8948\n",
            "Epoch [67/500], Loss: 111.0422\n",
            "Epoch [68/500], Loss: 107.7017\n",
            "Epoch [69/500], Loss: 108.1635\n",
            "Epoch [70/500], Loss: 105.5525\n",
            "Epoch [71/500], Loss: 103.4266\n",
            "Epoch [72/500], Loss: 101.5184\n",
            "Epoch [73/500], Loss: 100.7875\n",
            "Epoch [74/500], Loss: 101.0363\n",
            "Epoch [75/500], Loss: 96.2190\n",
            "Epoch [76/500], Loss: 93.2820\n",
            "Epoch [77/500], Loss: 92.0518\n",
            "Epoch [78/500], Loss: 88.5606\n",
            "Epoch [79/500], Loss: 86.4296\n",
            "Epoch [80/500], Loss: 84.5097\n",
            "Epoch [81/500], Loss: 82.2387\n",
            "Epoch [82/500], Loss: 80.4655\n",
            "Epoch [83/500], Loss: 79.1503\n",
            "Epoch [84/500], Loss: 77.2954\n",
            "Epoch [85/500], Loss: 75.6775\n",
            "Epoch [86/500], Loss: 74.7569\n",
            "Epoch [87/500], Loss: 73.1647\n",
            "Epoch [88/500], Loss: 72.0841\n",
            "Epoch [89/500], Loss: 71.0620\n",
            "Epoch [90/500], Loss: 69.4023\n",
            "Epoch [91/500], Loss: 67.5467\n",
            "Epoch [92/500], Loss: 66.9279\n",
            "Epoch [93/500], Loss: 65.6397\n",
            "Epoch [94/500], Loss: 64.5532\n",
            "Epoch [95/500], Loss: 63.5454\n",
            "Epoch [96/500], Loss: 62.4676\n",
            "Epoch [97/500], Loss: 61.9956\n",
            "Epoch [98/500], Loss: 60.6403\n",
            "Epoch [99/500], Loss: 60.2026\n",
            "Epoch [100/500], Loss: 58.7917\n",
            "Epoch [101/500], Loss: 57.9713\n",
            "Epoch [102/500], Loss: 57.0343\n",
            "Epoch [103/500], Loss: 56.5759\n",
            "Epoch [104/500], Loss: 55.8657\n",
            "Epoch [105/500], Loss: 55.1484\n",
            "Epoch [106/500], Loss: 54.4670\n",
            "Epoch [107/500], Loss: 53.9435\n",
            "Epoch [108/500], Loss: 53.5538\n",
            "Epoch [109/500], Loss: 53.0114\n",
            "Epoch [110/500], Loss: 52.0562\n",
            "Epoch [111/500], Loss: 52.0370\n",
            "Epoch [112/500], Loss: 51.4440\n",
            "Epoch [113/500], Loss: 51.0927\n",
            "Epoch [114/500], Loss: 50.3936\n",
            "Epoch [115/500], Loss: 50.4666\n",
            "Epoch [116/500], Loss: 49.7017\n",
            "Epoch [117/500], Loss: 49.2700\n",
            "Epoch [118/500], Loss: 49.0344\n",
            "Epoch [119/500], Loss: 48.4486\n",
            "Epoch [120/500], Loss: 48.0414\n",
            "Epoch [121/500], Loss: 47.8158\n",
            "Epoch [122/500], Loss: 47.4947\n",
            "Epoch [123/500], Loss: 47.0242\n",
            "Epoch [124/500], Loss: 46.6137\n",
            "Epoch [125/500], Loss: 46.2933\n",
            "Epoch [126/500], Loss: 46.0864\n",
            "Epoch [127/500], Loss: 45.5958\n",
            "Epoch [128/500], Loss: 45.2252\n",
            "Epoch [129/500], Loss: 44.8987\n",
            "Epoch [130/500], Loss: 44.8111\n",
            "Epoch [131/500], Loss: 44.5434\n",
            "Epoch [132/500], Loss: 44.2533\n",
            "Epoch [133/500], Loss: 43.8431\n",
            "Epoch [134/500], Loss: 43.6548\n",
            "Epoch [135/500], Loss: 43.7523\n",
            "Epoch [136/500], Loss: 43.5317\n",
            "Epoch [137/500], Loss: 42.7181\n",
            "Epoch [138/500], Loss: 43.1175\n",
            "Epoch [139/500], Loss: 43.1122\n",
            "Epoch [140/500], Loss: 42.5998\n",
            "Epoch [141/500], Loss: 42.4507\n",
            "Epoch [142/500], Loss: 42.0496\n",
            "Epoch [143/500], Loss: 42.7520\n",
            "Epoch [144/500], Loss: 41.6817\n",
            "Epoch [145/500], Loss: 40.9887\n",
            "Epoch [146/500], Loss: 40.4468\n",
            "Epoch [147/500], Loss: 39.5160\n",
            "Epoch [148/500], Loss: 39.1525\n",
            "Epoch [149/500], Loss: 38.3157\n",
            "Epoch [150/500], Loss: 37.8983\n",
            "Epoch [151/500], Loss: 37.3035\n",
            "Epoch [152/500], Loss: 36.6852\n",
            "Epoch [153/500], Loss: 36.1703\n",
            "Epoch [154/500], Loss: 36.1061\n",
            "Epoch [155/500], Loss: 35.5371\n",
            "Epoch [156/500], Loss: 35.1636\n",
            "Epoch [157/500], Loss: 34.5857\n",
            "Epoch [158/500], Loss: 34.2878\n",
            "Epoch [159/500], Loss: 33.9400\n",
            "Epoch [160/500], Loss: 33.8700\n",
            "Epoch [161/500], Loss: 33.5781\n",
            "Epoch [162/500], Loss: 33.3714\n",
            "Epoch [163/500], Loss: 32.6677\n",
            "Epoch [164/500], Loss: 31.8089\n",
            "Epoch [165/500], Loss: 31.5361\n",
            "Epoch [166/500], Loss: 30.8979\n",
            "Epoch [167/500], Loss: 30.4450\n",
            "Epoch [168/500], Loss: 29.9049\n",
            "Epoch [169/500], Loss: 29.3177\n",
            "Epoch [170/500], Loss: 29.0305\n",
            "Epoch [171/500], Loss: 28.8546\n",
            "Epoch [172/500], Loss: 28.6367\n",
            "Epoch [173/500], Loss: 28.2841\n",
            "Epoch [174/500], Loss: 28.3310\n",
            "Epoch [175/500], Loss: 28.1524\n",
            "Epoch [176/500], Loss: 27.8452\n",
            "Epoch [177/500], Loss: 27.6923\n",
            "Epoch [178/500], Loss: 27.6251\n",
            "Epoch [179/500], Loss: 27.4350\n",
            "Epoch [180/500], Loss: 27.4940\n",
            "Epoch [181/500], Loss: 27.3789\n",
            "Epoch [182/500], Loss: 27.2023\n",
            "Epoch [183/500], Loss: 27.0060\n",
            "Epoch [184/500], Loss: 26.5036\n",
            "Epoch [185/500], Loss: 26.4403\n",
            "Epoch [186/500], Loss: 26.5536\n",
            "Epoch [187/500], Loss: 26.3499\n",
            "Epoch [188/500], Loss: 26.3236\n",
            "Epoch [189/500], Loss: 26.1779\n",
            "Epoch [190/500], Loss: 26.0814\n",
            "Epoch [191/500], Loss: 26.2439\n",
            "Epoch [192/500], Loss: 26.0322\n",
            "Epoch [193/500], Loss: 25.9732\n",
            "Epoch [194/500], Loss: 25.8818\n",
            "Epoch [195/500], Loss: 25.7279\n",
            "Epoch [196/500], Loss: 25.7140\n",
            "Epoch [197/500], Loss: 25.6532\n",
            "Epoch [198/500], Loss: 25.5596\n",
            "Epoch [199/500], Loss: 25.5348\n",
            "Epoch [200/500], Loss: 25.3796\n",
            "Epoch [201/500], Loss: 25.5105\n",
            "Epoch [202/500], Loss: 25.4566\n",
            "Epoch [203/500], Loss: 25.1872\n",
            "Epoch [204/500], Loss: 25.1666\n",
            "Epoch [205/500], Loss: 25.0232\n",
            "Epoch [206/500], Loss: 25.0483\n",
            "Epoch [207/500], Loss: 24.9619\n",
            "Epoch [208/500], Loss: 24.8134\n",
            "Epoch [209/500], Loss: 24.6796\n",
            "Epoch [210/500], Loss: 24.7849\n",
            "Epoch [211/500], Loss: 24.5959\n",
            "Epoch [212/500], Loss: 24.5047\n",
            "Epoch [213/500], Loss: 24.5769\n",
            "Epoch [214/500], Loss: 24.3106\n",
            "Epoch [215/500], Loss: 24.1446\n",
            "Epoch [216/500], Loss: 24.1447\n",
            "Epoch [217/500], Loss: 24.0506\n",
            "Epoch [218/500], Loss: 23.9829\n",
            "Epoch [219/500], Loss: 23.9962\n",
            "Epoch [220/500], Loss: 23.9457\n",
            "Epoch [221/500], Loss: 23.8376\n",
            "Epoch [222/500], Loss: 23.7586\n",
            "Epoch [223/500], Loss: 23.6354\n",
            "Epoch [224/500], Loss: 23.8691\n",
            "Epoch [225/500], Loss: 23.7447\n",
            "Epoch [226/500], Loss: 23.6044\n",
            "Epoch [227/500], Loss: 23.2783\n",
            "Epoch [228/500], Loss: 23.3258\n",
            "Epoch [229/500], Loss: 23.2616\n",
            "Epoch [230/500], Loss: 22.9837\n",
            "Epoch [231/500], Loss: 22.9627\n",
            "Epoch [232/500], Loss: 22.9328\n",
            "Epoch [233/500], Loss: 22.9410\n",
            "Epoch [234/500], Loss: 22.7793\n",
            "Epoch [235/500], Loss: 22.8814\n",
            "Epoch [236/500], Loss: 22.6925\n"
          ]
        }
      ]
    },
    {
      "cell_type": "code",
      "source": [
        "test_segments = []\n",
        "test_targets = []\n",
        "test_meta_data = []\n",
        "for segment in test_data:\n",
        "  test_segments.append(segment[\"segment\"])\n",
        "  test_targets.append(segment[\"Hemoglobin(g/L)\"])\n",
        "  test_meta_data.append([segment[\"Age\"], segment[\"Height(cm)\"], segment[\"Weight(kg)\"], segment[\"Gender\"], segment[\"HR\"]])\n",
        "\n",
        "\n",
        "test_segments = np.array(test_segments)\n",
        "test_targets = np.array(test_targets)\n",
        "test_meta_data = np.array(test_meta_data)\n",
        "\n",
        "test_targets = test_targets.reshape(len(test_targets), 1)\n",
        "print(\"Test target shape:\", test_targets.shape)\n",
        "\n",
        "print(\"Test segment shape:\", test_segments.shape)\n",
        "print(\"Test meta data shape:\", test_meta_data.shape)"
      ],
      "metadata": {
        "colab": {
          "base_uri": "https://localhost:8080/"
        },
        "id": "bx8By_ApgwQH",
        "outputId": "a81366d8-a2e4-4e2c-f617-6829e23ff2eb"
      },
      "execution_count": null,
      "outputs": [
        {
          "output_type": "stream",
          "name": "stdout",
          "text": [
            "Test target shape: (933, 1)\n",
            "Test segment shape: (933, 4, 100)\n",
            "Test meta data shape: (933, 5)\n"
          ]
        }
      ]
    },
    {
      "cell_type": "code",
      "source": [
        "test_segments = torch.tensor(test_segments, dtype=torch.float32)\n",
        "test_targets = torch.tensor(test_targets, dtype=torch.float32)\n",
        "test_meta_data = torch.tensor(test_meta_data, dtype=torch.float32)\n",
        "\n",
        "test_segments = test_segments.unsqueeze(1)\n",
        "\n",
        "# Set the model to evaluation mode (turn off dropout, batchnorm, etc.)\n",
        "model.eval()\n",
        "\n",
        "# Perform inference (no gradient calculation needed)\n",
        "with torch.no_grad():  # No need to track gradients during evaluation\n",
        "    predictions = model(test_segments, test_meta_data)  # Model output (predicted values)\n",
        "    loss = criterion(predictions, test_targets)  # Calculate loss (MSE in this case\n",
        "\n",
        "# Convert the predictions and targets to numpy arrays for R^2 calculation\n",
        "predictions_np = predictions.numpy().flatten()  # Flatten to 1D array\n",
        "targets_np = test_targets.numpy().flatten()  # Flatten to 1D array"
      ],
      "metadata": {
        "id": "6sB8oYH1glPE"
      },
      "execution_count": null,
      "outputs": []
    },
    {
      "cell_type": "code",
      "source": [
        "print(loss)"
      ],
      "metadata": {
        "colab": {
          "base_uri": "https://localhost:8080/"
        },
        "id": "GKoZzGMtkZNk",
        "outputId": "68fc53ac-300c-4370-cc5f-a0984bd1f078"
      },
      "execution_count": null,
      "outputs": [
        {
          "output_type": "stream",
          "name": "stdout",
          "text": [
            "tensor(267.5075)\n"
          ]
        }
      ]
    },
    {
      "cell_type": "code",
      "source": [
        "plt.plot(targets_np, predictions_np, 'o')\n",
        "plt.xlabel(\"Targets\")\n",
        "plt.ylabel(\"Predictions\")\n",
        "plt.show()"
      ],
      "metadata": {
        "colab": {
          "base_uri": "https://localhost:8080/",
          "height": 449
        },
        "id": "Oj3VFFQtiy47",
        "outputId": "0de82d04-07f3-4b18-ef1d-e6ff5768037e"
      },
      "execution_count": null,
      "outputs": [
        {
          "output_type": "display_data",
          "data": {
            "text/plain": [
              "<Figure size 640x480 with 1 Axes>"
            ],
            "image/png": "[encoded data removed]"
          },
          "metadata": {}
        }
      ]
    },
    {
      "cell_type": "code",
      "source": [
        "printed_vals = []\n",
        "for val in targets_np:\n",
        "  if val not in printed_vals:\n",
        "    printed_vals.append(val)\n",
        "    print(val)"
      ],
      "metadata": {
        "colab": {
          "base_uri": "https://localhost:8080/"
        },
        "id": "vDZi6pIlSp5V",
        "outputId": "3ab91688-f57f-49ef-a33c-f645b1ac82c8"
      },
      "execution_count": null,
      "outputs": [
        {
          "output_type": "stream",
          "name": "stdout",
          "text": [
            "120.0\n",
            "144.0\n",
            "121.0\n",
            "152.0\n",
            "128.0\n",
            "130.0\n",
            "169.0\n",
            "154.0\n",
            "164.0\n",
            "155.0\n",
            "157.0\n"
          ]
        }
      ]
    },
    {
      "cell_type": "code",
      "source": [
        "print(predictions_np)"
      ],
      "metadata": {
        "colab": {
          "base_uri": "https://localhost:8080/"
        },
        "id": "M5aBKeXGi4aq",
        "outputId": "75acb167-eaee-45ae-d000-f4c799e5cb97"
      },
      "execution_count": null,
      "outputs": [
        {
          "output_type": "stream",
          "name": "stdout",
          "text": [
            "[101.933525  87.41567  169.81857  118.138695 191.4277   119.182526\n",
            " 138.15005  185.30066  107.19416  185.09705   86.13876  120.310875\n",
            " 128.01788  285.57947   96.83604  155.32379  152.40146  121.0017\n",
            " 124.25556  126.006966 189.05649  223.89304  104.488335 123.71291\n",
            " 152.05371  276.73837  151.10663  170.00392  104.83474  120.11901\n",
            "  86.24932  289.32462  122.62064  122.78719  129.38666  140.46687\n",
            " 276.5175   161.78616  108.20559  122.65006  181.42368  278.9539\n",
            " 253.09814  132.5451    86.36058  160.65903  105.478325 144.31525\n",
            " 140.36877  132.25285  111.824615 113.90966  119.53109  109.57334\n",
            "  94.72149  265.34622  116.2564   122.61263  173.28491  110.73529\n",
            " 261.87177  153.50421  118.34615  132.40927  144.4628   145.40808\n",
            "  89.12655  153.43185   96.86874   89.36971  115.49903  279.65247\n",
            "  94.24804   96.04331  140.69403  216.36075  139.65598  286.09814\n",
            " 173.59166  119.8953   139.55357  257.39246   86.77727  142.1323\n",
            "  94.08718  149.50172  147.13147  124.48063  112.38916  103.85522\n",
            " 109.144066 276.46628   86.399315 138.05304   84.216225 114.39353\n",
            " 153.24792  173.10585  106.6963   121.06994  145.72836  182.5632\n",
            " 106.13381   81.86628  127.92431  133.53334  169.23033  182.55042\n",
            " 121.24308  133.27614  126.45861  130.25696  145.78415   87.35108\n",
            "  87.68168  177.71269  117.84846  280.3451   125.57003  112.10961\n",
            " 116.54748  114.53112  147.50217  104.00773  141.82698   94.86593\n",
            " 118.892876 116.767365 104.82502  167.77295  119.26975  155.20766\n",
            " 189.88562  176.96017   96.91798  226.43727   87.201866 146.94066\n",
            " 196.18422  178.16818   94.04612  131.96873  156.01268  121.06922\n",
            " 122.34785  115.56838   92.299774 147.30006  151.73666  120.48406\n",
            "  87.02828  122.33361  122.12202  273.4937   128.6084   143.30862\n",
            " 106.11849  120.52427  140.90958  158.37657  121.93812  177.29187\n",
            " 175.55762  120.5519   142.77939  187.02165  173.53049  119.176445\n",
            " 275.39163  126.49322   83.951805 264.61102   87.983665 109.179695\n",
            " 131.86844  109.86309  159.68188  174.63126  171.90427  105.35533\n",
            " 131.06548  122.97014  273.06604  133.49318  145.65758  100.55041\n",
            " 153.9096   121.55883  117.88501  149.38396  289.41925  210.3393\n",
            " 126.37404  188.86102  113.811226 285.16058   82.206154 263.4284\n",
            " 192.79517  147.84723  149.09523  106.669426 151.16548   93.87078\n",
            " 118.65832  118.76419  216.9862   185.51962  274.06885  201.1627\n",
            " 273.33444   85.88087  133.22124   67.45019  138.03743  149.68954\n",
            " 154.7749   104.85001  119.08135  129.78159  140.79666  153.24799\n",
            " 116.94073  110.18067  283.59912   83.20225  130.88046  185.19171\n",
            " 120.69335   86.02494  133.30626  138.10127  121.929726 140.74489\n",
            " 114.49445  286.7511   175.88416   74.58065   67.33407   90.329094\n",
            " 111.12414  198.63675  120.959404 104.49358  107.42986  285.8609\n",
            " 154.83554  273.62186  120.77651  260.52734  179.56537  272.35934\n",
            " 113.100395 134.04852   88.64469  120.75483  252.78198  150.84454\n",
            " 134.8429   189.5722   150.55052  133.93636  178.85474  185.27391\n",
            " 148.02249  174.51941   94.18177  253.1946   115.04594  130.25696\n",
            " 100.62821  113.11933  147.92047   88.66006  109.36451  138.21964\n",
            " 117.07213  153.49591  121.51159   89.764656 102.606026  93.03437\n",
            " 184.74495  199.66788  169.96155  281.95258  131.69328  129.14253\n",
            " 134.7681   117.189125 262.3426    84.00142  116.82902  189.2248\n",
            " 259.14767  121.08556  119.88764  276.3933   119.23426  116.02291\n",
            " 224.91328  154.12859  131.32501  200.6182   150.67046  104.15893\n",
            " 149.08878  151.34178  135.09158  189.94006  123.019684 208.86252\n",
            " 150.7842   285.0405   265.58417   87.53634  120.31112  156.55061\n",
            " 150.82732  170.08217  271.7171   257.35617  123.94717  115.54018\n",
            " 182.1131   150.56204  116.439896 156.63303   94.68597  166.62537\n",
            " 134.84232   99.70681  140.14468  118.98196  197.62282  125.12008\n",
            "  99.90511  141.00912  120.50808  119.82711  131.1976   108.18691\n",
            "  89.365166 113.34267  129.35939  260.46298  133.3424   140.92265\n",
            "  95.1162   186.05563  166.88123  132.81247  188.09003   87.639046\n",
            " 134.06491  120.54923  114.27152  121.06857  140.02356  173.54848\n",
            " 100.392204 174.97171  139.62985  283.06958  187.28867   95.20374\n",
            " 153.30089  106.01684  179.73865  197.00127  139.89307  120.937035\n",
            " 267.88245  120.802315 261.78745   86.99909  122.18603  115.32873\n",
            " 108.6377   113.34662   96.69512  108.27075  272.38083  113.740845\n",
            " 185.26695   85.31428   51.36289  153.06396  131.09506  112.48549\n",
            " 149.3903   133.46945  111.72239  126.081604 169.51273  276.23062\n",
            " 118.170784 262.8191   141.29692  277.5547   155.74109  115.490974\n",
            " 112.144585  98.93897  123.645256 144.85748  285.86685  275.13318\n",
            " 125.870544 111.193146  88.46749  103.1408   251.6861   191.10184\n",
            " 128.97444  195.60417  118.142815 108.8379   105.40612  154.41269\n",
            " 118.65561  154.59793   88.66752  159.02655  153.2208   156.51009\n",
            " 111.27658  106.540276 132.74509  160.05104  133.47992  126.49128\n",
            "  84.67449   97.56475  114.68888  121.67367   59.344635 104.58102\n",
            " 285.88702  283.79755  249.13844  130.48724  115.43485  162.76051\n",
            "  91.78878  121.98052  114.93275  178.17258  102.470406 139.93939\n",
            " 130.08308   83.78017   95.08761  193.66022  110.87971  114.00266\n",
            " 119.52334  156.77815  136.00919  134.17422  192.12442  254.26862\n",
            " 129.8967   118.153336 133.17099  118.31865  132.05861   56.37152\n",
            " 136.27814  139.05045  270.54504  140.06404  106.424515 139.32817\n",
            " 166.1616   131.2257   112.19956   88.078545  82.94128  138.56943\n",
            " 148.95425  106.47707  172.90062  121.39581  120.306114  96.976494\n",
            " 198.7264   146.59586  274.7486   258.55356  121.38723  156.71848\n",
            " 141.45221   97.36132  130.83525  104.41012  113.855965 135.37457\n",
            " 126.24266  272.25372  152.19855  272.40906  185.76297  265.0854\n",
            " 119.29064  110.80575  193.40237  142.54498  124.64309  272.68762\n",
            " 121.5115    90.57345  116.79833   89.718025 117.431175 120.776695\n",
            "  89.95025  120.790215 174.3172   181.71109  280.19186  121.109795\n",
            " 155.7598   117.28671  117.11128  110.48862  121.88235  158.08153\n",
            " 136.1689   119.79696  140.24133  110.2959   119.927284 281.73154\n",
            " 188.34442  120.395164 121.14622  204.7471    85.19471  121.65789\n",
            "  88.01888  110.789925 129.26273  185.34323  149.70152  115.44907\n",
            " 127.078636 284.101    262.22006  133.71976  137.90977  186.49225\n",
            "  84.3166   154.48485  155.78046  124.4701   158.02298  134.93414\n",
            " 102.87255  122.28808  138.90033  134.2176   190.75372  136.78043\n",
            " 117.12621  142.57932  173.69096  188.44344  112.365746 129.1356\n",
            " 116.77094   91.50973  137.5787   130.03638  187.37938   85.81391\n",
            " 118.55332  247.48071  172.17545  265.40283  124.4518   150.9396\n",
            "  57.045956  87.3205    83.61448  156.29477  100.87383  122.22466\n",
            "  95.28936  263.05942  102.13352   69.13961  134.7136   151.47684\n",
            " 185.72128  155.53769  119.21711   94.00805  154.51811  288.5656\n",
            " 131.74458  113.75521  143.79395  121.8944   157.5304   276.93262\n",
            " 125.59514  120.382454 110.53527  177.3575   130.71426  267.81638\n",
            " 181.48766  122.146065  99.11207  143.57791  132.30403  261.38693\n",
            " 147.7042   151.18463  121.47605  138.27116  111.29513   96.713585\n",
            " 119.26022  275.45895  110.27856  213.44043  119.52801  249.95975\n",
            "  99.36512  109.622154 268.59857   52.195698 111.41067   85.474754\n",
            "  89.68402  132.24203  104.37853  114.30753  125.41732  127.194695\n",
            " 102.2389    84.44689  120.60119  110.391685 103.92286  141.74901\n",
            " 144.6888   122.91346  151.0957    97.019035 208.44002  119.23343\n",
            " 134.29965  120.06719  144.07405  131.37206  280.8005   123.56173\n",
            " 130.78375  250.71805   83.697975 135.18588  110.421875 247.15405\n",
            "  89.35708  113.66027   57.126842 144.871    273.02594  276.33334\n",
            "  67.270164 152.9884   282.41382  118.44282  138.37277  116.50996\n",
            " 114.48713   90.20447  121.32241  111.272545 116.69097  116.98774\n",
            " 126.213936 146.37189   84.92317   56.578182 120.79864  143.56749\n",
            "  92.01838  117.93491  127.72678  269.36615  132.14058  122.02175\n",
            "  50.72441  114.016624  96.254295  90.442726  86.706276 284.69147\n",
            " 130.371    117.33124  172.34006  108.69436  195.36584  119.093666\n",
            " 126.89913  132.56146  128.20045  284.92743  173.38455  122.478325\n",
            " 171.20596  266.13852  189.89423  121.23875  121.08405  115.253136\n",
            " 121.17419  283.69897  141.05762  158.29059   93.17126  111.07909\n",
            " 147.30017  127.904755 127.221405 221.12047  130.62692  113.012535\n",
            " 120.134544 121.812065 134.82799  273.27155  132.39119  155.96223\n",
            "  88.14975  125.76898  207.39891  125.617775 122.77761  173.76001\n",
            " 113.84074  136.04427   88.85355  116.163    139.1297    90.13888\n",
            " 121.134544 263.59293  101.21519  153.03316  282.1946   151.76558\n",
            " 120.46049  264.75867  277.70422  110.0769   175.17944  112.406586\n",
            " 115.723274 121.59016  178.98732   84.5882   121.44564  179.31952\n",
            " 110.14246  113.14291  251.40349  129.31764  256.822    118.31817\n",
            " 251.5126   105.040215 276.15207  131.45454   63.55103  103.65868\n",
            " 113.2869   210.45566  102.33611  106.69054  124.90325  134.15395\n",
            " 114.62223  122.749535 116.92486  126.350685 112.75182  145.6966\n",
            " 286.49164  133.98604  121.81466   81.68992  273.43384  284.6844\n",
            " 121.339    247.38797  143.28606  117.14655  260.18127  130.76779\n",
            " 273.7206   122.71688   99.130684 286.96588  267.7695   118.22315\n",
            " 130.6948   117.182205  57.368706 161.28676  225.77109  188.04556\n",
            " 142.47296  117.71316   82.524315 142.32294  133.84416  274.2741\n",
            " 118.64588  281.45007  171.06802  144.227     51.545994 122.45623\n",
            " 272.7802    94.7513   267.2936   117.80153  135.87929  151.24384\n",
            " 138.11597  114.921486 111.6944   123.16128  158.84192  136.55222\n",
            " 144.57684  121.668785 114.6964    55.61793  273.29828  108.89966\n",
            " 247.79028   86.76391  145.68869   74.957565 122.12476  125.24459\n",
            " 101.94167   89.04025  183.13628  108.67254  123.33191  121.81336\n",
            " 108.290184 111.08132  117.36382  119.005394 149.80762  128.4683\n",
            " 118.55139  136.06226  121.17033  270.05927  275.34283   77.86846\n",
            " 173.22357   92.82174  151.50407  161.51929  102.188805 140.98401\n",
            " 130.45956  120.46546  128.80264  136.34818  121.658165 124.48899\n",
            " 134.21645  127.82803  117.77543   86.05878  111.70698  142.57164\n",
            " 272.734    222.70387  119.69514  138.55923   86.97359  137.78915\n",
            " 123.76416  171.70834  134.22568  117.75228   98.1415   179.89627\n",
            " 114.96798  108.769135 113.84432  170.61264  198.18442  128.31366\n",
            "  90.261604 140.4703   142.52936  139.91707  121.79575  132.23453\n",
            " 110.08636   91.75927  102.32249  169.54028  122.82726  141.28435\n",
            "  65.2382   115.31292  114.11221  137.71349  148.58383  106.98026\n",
            " 141.61458  102.791176 288.99014  118.264595 101.588066 186.47116\n",
            " 110.331696 137.43222  173.65857  148.22879  115.70742  177.40085\n",
            " 127.1674    88.13839 ]\n"
          ]
        }
      ]
    }
  ]
}