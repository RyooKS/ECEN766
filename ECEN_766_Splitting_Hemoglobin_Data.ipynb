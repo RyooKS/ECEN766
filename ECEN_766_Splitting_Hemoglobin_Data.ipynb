{
  "nbformat": 4,
  "nbformat_minor": 0,
  "metadata": {
    "colab": {
      "provenance": []
    },
    "kernelspec": {
      "name": "python3",
      "display_name": "Python 3"
    },
    "language_info": {
      "name": "python"
    }
  },
  "cells": [
    {
      "cell_type": "code",
      "source": [
        "!pip install pyPPG"
      ],
      "metadata": {
        "colab": {
          "base_uri": "https://localhost:8080/"
        },
        "id": "1_9NTJgcaW5z",
        "outputId": "76c450b0-ca1a-4a57-c376-25904f1c44fc"
      },
      "execution_count": null,
      "outputs": [
        {
          "output_type": "stream",
          "name": "stdout",
          "text": [
            "Collecting pyPPG\n",
            "  Using cached pyPPG-1.0.73-py3-none-any.whl.metadata (8.9 kB)\n",
            "Collecting scipy==1.9.1 (from pyPPG)\n",
            "  Using cached scipy-1.9.1.tar.gz (42.0 MB)\n",
            "  Installing build dependencies ... \u001b[?25l\u001b[?25hdone\n",
            "  \u001b[1;31merror\u001b[0m: \u001b[1msubprocess-exited-with-error\u001b[0m\n",
            "  \n",
            "  \u001b[31m×\u001b[0m \u001b[32mGetting requirements to build wheel\u001b[0m did not run successfully.\n",
            "  \u001b[31m│\u001b[0m exit code: \u001b[1;36m1\u001b[0m\n",
            "  \u001b[31m╰─>\u001b[0m See above for output.\n",
            "  \n",
            "  \u001b[1;35mnote\u001b[0m: This error originates from a subprocess, and is likely not a problem with pip.\n",
            "  Getting requirements to build wheel ... \u001b[?25l\u001b[?25herror\n",
            "\u001b[1;31merror\u001b[0m: \u001b[1msubprocess-exited-with-error\u001b[0m\n",
            "\n",
            "\u001b[31m×\u001b[0m \u001b[32mGetting requirements to build wheel\u001b[0m did not run successfully.\n",
            "\u001b[31m│\u001b[0m exit code: \u001b[1;36m1\u001b[0m\n",
            "\u001b[31m╰─>\u001b[0m See above for output.\n",
            "\n",
            "\u001b[1;35mnote\u001b[0m: This error originates from a subprocess, and is likely not a problem with pip.\n"
          ]
        }
      ]
    },
    {
      "cell_type": "code",
      "source": [
        "import scipy.io\n",
        "import numpy as np\n",
        "import pandas as pd\n",
        "import matplotlib.pyplot as plt\n",
        "from scipy import signal\n",
        "from scipy import interpolate\n",
        "import csv"
      ],
      "metadata": {
        "id": "_dm2FEGGVtKr"
      },
      "execution_count": null,
      "outputs": []
    },
    {
      "cell_type": "code",
      "source": [
        "# Read MatLab PPG waveform file and convert to dictionary where the key value is the wavelength\n",
        "# Parameters: file_path = path to the file\n",
        "# Returns: dictionary\n",
        "def mat_to_numpy_array_dict(file_path):\n",
        "  numpy_dict = {\"660nm\": [], \"730nm\": [], \"850nm\": [], \"940nm\": []}\n",
        "  mat = scipy.io.loadmat(file_path, simplify_cells=True)\n",
        "  for row in mat[\"PPGdata\"][\"data\"]:\n",
        "    numpy_dict[\"660nm\"].append(row[0])\n",
        "    numpy_dict[\"730nm\"].append(row[1])\n",
        "    numpy_dict[\"850nm\"].append(row[2])\n",
        "    numpy_dict[\"940nm\"].append(row[3])\n",
        "\n",
        "  numpy_dict[\"660nm\"] = np.array(numpy_dict[\"660nm\"])\n",
        "  numpy_dict[\"730nm\"] = np.array(numpy_dict[\"730nm\"])\n",
        "  numpy_dict[\"850nm\"] = np.array(numpy_dict[\"850nm\"])\n",
        "  numpy_dict[\"940nm\"] = np.array(numpy_dict[\"940nm\"])\n",
        "\n",
        "  return numpy_dict"
      ],
      "metadata": {
        "id": "faLNVQu4V6aK"
      },
      "execution_count": null,
      "outputs": []
    },
    {
      "cell_type": "code",
      "source": [
        "ppg_values_all_subjects = []\n",
        "for i in range(58):\n",
        "  ppg_values_all_subjects.append(mat_to_numpy_array_dict(f\"raw_data_mat/{i+1}.mat\"))"
      ],
      "metadata": {
        "id": "dCwDuXmuV9X9"
      },
      "execution_count": null,
      "outputs": []
    },
    {
      "cell_type": "code",
      "source": [
        "for i in range(len(ppg_values_all_subjects)):\n",
        "  np.savetxt(f\"660nm/{i+1}.csv\", ppg_values_all_subjects[i][\"660nm\"], delimiter=\",\")\n",
        "  np.savetxt(f\"730nm/{i+1}.csv\", ppg_values_all_subjects[i][\"730nm\"], delimiter=\",\")\n",
        "  np.savetxt(f\"850nm/{i+1}.csv\", ppg_values_all_subjects[i][\"850nm\"], delimiter=\",\")\n",
        "  np.savetxt(f\"940nm/{i+1}.csv\", ppg_values_all_subjects[i][\"940nm\"], delimiter=\",\")"
      ],
      "metadata": {
        "id": "OT2KAhj8WFmd"
      },
      "execution_count": null,
      "outputs": []
    },
    {
      "cell_type": "code",
      "source": [
        "!zip -r /content/660nm.zip /content/660nm//\n",
        "from google.colab import files\n",
        "files.download(\"/content/660nm.zip\")\n",
        "\n",
        "!zip -r /content/730nm.zip /content/730nm//\n",
        "from google.colab import files\n",
        "files.download(\"/content/730nm.zip\")\n",
        "\n",
        "!zip -r /content/850nm.zip /content/850nm//\n",
        "from google.colab import files\n",
        "files.download(\"/content/850nm.zip\")\n",
        "\n",
        "!zip -r /content/940nm.zip /content/940nm//\n",
        "from google.colab import files\n",
        "files.download(\"/content/940nm.zip\")"
      ],
      "metadata": {
        "colab": {
          "base_uri": "https://localhost:8080/",
          "height": 1000
        },
        "id": "KkUa_vjXYQKH",
        "outputId": "813c233d-0afc-4acf-ef51-353ff20d4168"
      },
      "execution_count": null,
      "outputs": [
        {
          "output_type": "stream",
          "name": "stdout",
          "text": [
            "  adding: content/660nm// (stored 0%)\n",
            "  adding: content/660nm//56.csv (deflated 88%)\n",
            "  adding: content/660nm//15.csv (deflated 89%)\n",
            "  adding: content/660nm//45.csv (deflated 89%)\n",
            "  adding: content/660nm//26.csv (deflated 88%)\n",
            "  adding: content/660nm//10.csv (deflated 89%)\n",
            "  adding: content/660nm//51.csv (deflated 88%)\n",
            "  adding: content/660nm//2.csv (deflated 88%)\n",
            "  adding: content/660nm//19.csv (deflated 88%)\n",
            "  adding: content/660nm//6.csv (deflated 88%)\n",
            "  adding: content/660nm//44.csv (deflated 88%)\n",
            "  adding: content/660nm//48.csv (deflated 91%)\n",
            "  adding: content/660nm//13.csv (deflated 89%)\n",
            "  adding: content/660nm//3.csv (deflated 88%)\n",
            "  adding: content/660nm//9.csv (deflated 88%)\n",
            "  adding: content/660nm//34.csv (deflated 89%)\n",
            "  adding: content/660nm//21.csv (deflated 89%)\n",
            "  adding: content/660nm//55.csv (deflated 88%)\n",
            "  adding: content/660nm//30.csv (deflated 89%)\n",
            "  adding: content/660nm//33.csv (deflated 88%)\n",
            "  adding: content/660nm//53.csv (deflated 88%)\n",
            "  adding: content/660nm//12.csv (deflated 88%)\n",
            "  adding: content/660nm//20.csv (deflated 89%)\n",
            "  adding: content/660nm//29.csv (deflated 88%)\n",
            "  adding: content/660nm//22.csv (deflated 90%)\n",
            "  adding: content/660nm//46.csv (deflated 87%)\n",
            "  adding: content/660nm//39.csv (deflated 88%)\n",
            "  adding: content/660nm//31.csv (deflated 89%)\n",
            "  adding: content/660nm//28.csv (deflated 89%)\n",
            "  adding: content/660nm//41.csv (deflated 89%)\n",
            "  adding: content/660nm//36.csv (deflated 88%)\n",
            "  adding: content/660nm//23.csv (deflated 88%)\n",
            "  adding: content/660nm//37.csv (deflated 89%)\n",
            "  adding: content/660nm//54.csv (deflated 89%)\n",
            "  adding: content/660nm//57.csv (deflated 88%)\n",
            "  adding: content/660nm//17.csv (deflated 89%)\n",
            "  adding: content/660nm//24.csv (deflated 90%)\n",
            "  adding: content/660nm//58.csv (deflated 88%)\n",
            "  adding: content/660nm//5.csv (deflated 88%)\n",
            "  adding: content/660nm//1.csv (deflated 88%)\n",
            "  adding: content/660nm//50.csv (deflated 88%)\n",
            "  adding: content/660nm//49.csv (deflated 88%)\n",
            "  adding: content/660nm//7.csv (deflated 88%)\n",
            "  adding: content/660nm//16.csv (deflated 89%)\n",
            "  adding: content/660nm//32.csv (deflated 88%)\n",
            "  adding: content/660nm//18.csv (deflated 89%)\n",
            "  adding: content/660nm//25.csv (deflated 89%)\n",
            "  adding: content/660nm//47.csv (deflated 88%)\n",
            "  adding: content/660nm//8.csv (deflated 88%)\n",
            "  adding: content/660nm//43.csv (deflated 88%)\n",
            "  adding: content/660nm//52.csv (deflated 90%)\n",
            "  adding: content/660nm//42.csv (deflated 88%)\n",
            "  adding: content/660nm//11.csv (deflated 88%)\n",
            "  adding: content/660nm//14.csv (deflated 88%)\n",
            "  adding: content/660nm//38.csv (deflated 88%)\n",
            "  adding: content/660nm//4.csv (deflated 89%)\n",
            "  adding: content/660nm//35.csv (deflated 89%)\n",
            "  adding: content/660nm//40.csv (deflated 89%)\n",
            "  adding: content/660nm//27.csv (deflated 88%)\n"
          ]
        },
        {
          "output_type": "display_data",
          "data": {
            "text/plain": [
              "<IPython.core.display.Javascript object>"
            ],
            "application/javascript": [
              "\n",
              "    async function download(id, filename, size) {\n",
              "      if (!google.colab.kernel.accessAllowed) {\n",
              "        return;\n",
              "      }\n",
              "      const div = document.createElement('div');\n",
              "      const label = document.createElement('label');\n",
              "      label.textContent = `Downloading \"${filename}\": `;\n",
              "      div.appendChild(label);\n",
              "      const progress = document.createElement('progress');\n",
              "      progress.max = size;\n",
              "      div.appendChild(progress);\n",
              "      document.body.appendChild(div);\n",
              "\n",
              "      const buffers = [];\n",
              "      let downloaded = 0;\n",
              "\n",
              "      const channel = await google.colab.kernel.comms.open(id);\n",
              "      // Send a message to notify the kernel that we're ready.\n",
              "      channel.send({})\n",
              "\n",
              "      for await (const message of channel.messages) {\n",
              "        // Send a message to notify the kernel that we're ready.\n",
              "        channel.send({})\n",
              "        if (message.buffers) {\n",
              "          for (const buffer of message.buffers) {\n",
              "            buffers.push(buffer);\n",
              "            downloaded += buffer.byteLength;\n",
              "            progress.value = downloaded;\n",
              "          }\n",
              "        }\n",
              "      }\n",
              "      const blob = new Blob(buffers, {type: 'application/binary'});\n",
              "      const a = document.createElement('a');\n",
              "      a.href = window.URL.createObjectURL(blob);\n",
              "      a.download = filename;\n",
              "      div.appendChild(a);\n",
              "      a.click();\n",
              "      div.remove();\n",
              "    }\n",
              "  "
            ]
          },
          "metadata": {}
        },
        {
          "output_type": "display_data",
          "data": {
            "text/plain": [
              "<IPython.core.display.Javascript object>"
            ],
            "application/javascript": [
              "download(\"download_cd621932-e641-4815-b46c-91e3526949a6\", \"660nm.zip\", 2023710)"
            ]
          },
          "metadata": {}
        },
        {
          "output_type": "stream",
          "name": "stdout",
          "text": [
            "  adding: content/730nm// (stored 0%)\n",
            "  adding: content/730nm//56.csv (deflated 88%)\n",
            "  adding: content/730nm//15.csv (deflated 88%)\n",
            "  adding: content/730nm//45.csv (deflated 90%)\n",
            "  adding: content/730nm//26.csv (deflated 88%)\n",
            "  adding: content/730nm//10.csv (deflated 89%)\n",
            "  adding: content/730nm//51.csv (deflated 89%)\n",
            "  adding: content/730nm//2.csv (deflated 90%)\n",
            "  adding: content/730nm//19.csv (deflated 87%)\n",
            "  adding: content/730nm//6.csv (deflated 88%)\n",
            "  adding: content/730nm//44.csv (deflated 88%)\n",
            "  adding: content/730nm//48.csv (deflated 91%)\n",
            "  adding: content/730nm//13.csv (deflated 89%)\n",
            "  adding: content/730nm//3.csv (deflated 88%)\n",
            "  adding: content/730nm//9.csv (deflated 89%)\n",
            "  adding: content/730nm//34.csv (deflated 89%)\n",
            "  adding: content/730nm//21.csv (deflated 89%)\n",
            "  adding: content/730nm//55.csv (deflated 88%)\n",
            "  adding: content/730nm//30.csv (deflated 89%)\n",
            "  adding: content/730nm//33.csv (deflated 88%)\n",
            "  adding: content/730nm//53.csv (deflated 88%)\n",
            "  adding: content/730nm//12.csv (deflated 89%)\n",
            "  adding: content/730nm//20.csv (deflated 89%)\n",
            "  adding: content/730nm//29.csv (deflated 90%)\n",
            "  adding: content/730nm//22.csv (deflated 90%)\n",
            "  adding: content/730nm//46.csv (deflated 88%)\n",
            "  adding: content/730nm//39.csv (deflated 88%)\n",
            "  adding: content/730nm//31.csv (deflated 89%)\n",
            "  adding: content/730nm//28.csv (deflated 89%)\n",
            "  adding: content/730nm//41.csv (deflated 89%)\n",
            "  adding: content/730nm//36.csv (deflated 88%)\n",
            "  adding: content/730nm//23.csv (deflated 88%)\n",
            "  adding: content/730nm//37.csv (deflated 88%)\n",
            "  adding: content/730nm//54.csv (deflated 90%)\n",
            "  adding: content/730nm//57.csv (deflated 89%)\n",
            "  adding: content/730nm//17.csv (deflated 89%)\n",
            "  adding: content/730nm//24.csv (deflated 90%)\n",
            "  adding: content/730nm//58.csv (deflated 89%)\n",
            "  adding: content/730nm//5.csv (deflated 88%)\n",
            "  adding: content/730nm//1.csv (deflated 88%)\n",
            "  adding: content/730nm//50.csv (deflated 88%)\n",
            "  adding: content/730nm//49.csv (deflated 88%)\n",
            "  adding: content/730nm//7.csv (deflated 89%)\n",
            "  adding: content/730nm//16.csv (deflated 89%)\n",
            "  adding: content/730nm//32.csv (deflated 88%)\n",
            "  adding: content/730nm//18.csv (deflated 89%)\n",
            "  adding: content/730nm//25.csv (deflated 89%)\n",
            "  adding: content/730nm//47.csv (deflated 91%)\n",
            "  adding: content/730nm//8.csv (deflated 88%)\n",
            "  adding: content/730nm//43.csv (deflated 89%)\n",
            "  adding: content/730nm//52.csv (deflated 90%)\n",
            "  adding: content/730nm//42.csv (deflated 89%)\n",
            "  adding: content/730nm//11.csv (deflated 89%)\n",
            "  adding: content/730nm//14.csv (deflated 88%)\n",
            "  adding: content/730nm//38.csv (deflated 88%)\n",
            "  adding: content/730nm//4.csv (deflated 88%)\n",
            "  adding: content/730nm//35.csv (deflated 89%)\n",
            "  adding: content/730nm//40.csv (deflated 89%)\n",
            "  adding: content/730nm//27.csv (deflated 88%)\n"
          ]
        },
        {
          "output_type": "display_data",
          "data": {
            "text/plain": [
              "<IPython.core.display.Javascript object>"
            ],
            "application/javascript": [
              "\n",
              "    async function download(id, filename, size) {\n",
              "      if (!google.colab.kernel.accessAllowed) {\n",
              "        return;\n",
              "      }\n",
              "      const div = document.createElement('div');\n",
              "      const label = document.createElement('label');\n",
              "      label.textContent = `Downloading \"${filename}\": `;\n",
              "      div.appendChild(label);\n",
              "      const progress = document.createElement('progress');\n",
              "      progress.max = size;\n",
              "      div.appendChild(progress);\n",
              "      document.body.appendChild(div);\n",
              "\n",
              "      const buffers = [];\n",
              "      let downloaded = 0;\n",
              "\n",
              "      const channel = await google.colab.kernel.comms.open(id);\n",
              "      // Send a message to notify the kernel that we're ready.\n",
              "      channel.send({})\n",
              "\n",
              "      for await (const message of channel.messages) {\n",
              "        // Send a message to notify the kernel that we're ready.\n",
              "        channel.send({})\n",
              "        if (message.buffers) {\n",
              "          for (const buffer of message.buffers) {\n",
              "            buffers.push(buffer);\n",
              "            downloaded += buffer.byteLength;\n",
              "            progress.value = downloaded;\n",
              "          }\n",
              "        }\n",
              "      }\n",
              "      const blob = new Blob(buffers, {type: 'application/binary'});\n",
              "      const a = document.createElement('a');\n",
              "      a.href = window.URL.createObjectURL(blob);\n",
              "      a.download = filename;\n",
              "      div.appendChild(a);\n",
              "      a.click();\n",
              "      div.remove();\n",
              "    }\n",
              "  "
            ]
          },
          "metadata": {}
        },
        {
          "output_type": "display_data",
          "data": {
            "text/plain": [
              "<IPython.core.display.Javascript object>"
            ],
            "application/javascript": [
              "download(\"download_4d3459ba-c302-4894-801e-61e07cdf30cd\", \"730nm.zip\", 1966528)"
            ]
          },
          "metadata": {}
        },
        {
          "output_type": "stream",
          "name": "stdout",
          "text": [
            "  adding: content/850nm// (stored 0%)\n",
            "  adding: content/850nm//56.csv (deflated 87%)\n",
            "  adding: content/850nm//15.csv (deflated 87%)\n",
            "  adding: content/850nm//45.csv (deflated 89%)\n",
            "  adding: content/850nm//26.csv (deflated 87%)\n",
            "  adding: content/850nm//10.csv (deflated 88%)\n",
            "  adding: content/850nm//51.csv (deflated 88%)\n",
            "  adding: content/850nm//2.csv (deflated 87%)\n",
            "  adding: content/850nm//19.csv (deflated 87%)\n",
            "  adding: content/850nm//6.csv (deflated 87%)\n",
            "  adding: content/850nm//44.csv (deflated 88%)\n",
            "  adding: content/850nm//48.csv (deflated 89%)\n",
            "  adding: content/850nm//13.csv (deflated 89%)\n",
            "  adding: content/850nm//3.csv (deflated 87%)\n",
            "  adding: content/850nm//9.csv (deflated 87%)\n",
            "  adding: content/850nm//34.csv (deflated 89%)\n",
            "  adding: content/850nm//21.csv (deflated 88%)\n",
            "  adding: content/850nm//55.csv (deflated 88%)\n",
            "  adding: content/850nm//30.csv (deflated 88%)\n",
            "  adding: content/850nm//33.csv (deflated 87%)\n",
            "  adding: content/850nm//53.csv (deflated 87%)\n",
            "  adding: content/850nm//12.csv (deflated 88%)\n",
            "  adding: content/850nm//20.csv (deflated 88%)\n",
            "  adding: content/850nm//29.csv (deflated 88%)\n",
            "  adding: content/850nm//22.csv (deflated 89%)\n",
            "  adding: content/850nm//46.csv (deflated 87%)\n",
            "  adding: content/850nm//39.csv (deflated 87%)\n",
            "  adding: content/850nm//31.csv (deflated 88%)\n",
            "  adding: content/850nm//28.csv (deflated 88%)\n",
            "  adding: content/850nm//41.csv (deflated 89%)\n",
            "  adding: content/850nm//36.csv (deflated 88%)\n",
            "  adding: content/850nm//23.csv (deflated 87%)\n",
            "  adding: content/850nm//37.csv (deflated 87%)\n",
            "  adding: content/850nm//54.csv (deflated 88%)\n",
            "  adding: content/850nm//57.csv (deflated 88%)\n",
            "  adding: content/850nm//17.csv (deflated 88%)\n",
            "  adding: content/850nm//24.csv (deflated 89%)\n",
            "  adding: content/850nm//58.csv (deflated 88%)\n",
            "  adding: content/850nm//5.csv (deflated 88%)\n",
            "  adding: content/850nm//1.csv (deflated 87%)\n",
            "  adding: content/850nm//50.csv (deflated 87%)\n",
            "  adding: content/850nm//49.csv (deflated 88%)\n",
            "  adding: content/850nm//7.csv (deflated 88%)\n",
            "  adding: content/850nm//16.csv (deflated 88%)\n",
            "  adding: content/850nm//32.csv (deflated 87%)\n",
            "  adding: content/850nm//18.csv (deflated 88%)\n",
            "  adding: content/850nm//25.csv (deflated 88%)\n",
            "  adding: content/850nm//47.csv (deflated 89%)\n",
            "  adding: content/850nm//8.csv (deflated 88%)\n",
            "  adding: content/850nm//43.csv (deflated 88%)\n",
            "  adding: content/850nm//52.csv (deflated 89%)\n",
            "  adding: content/850nm//42.csv (deflated 88%)\n",
            "  adding: content/850nm//11.csv (deflated 88%)\n",
            "  adding: content/850nm//14.csv (deflated 88%)\n",
            "  adding: content/850nm//38.csv (deflated 87%)\n",
            "  adding: content/850nm//4.csv (deflated 88%)\n",
            "  adding: content/850nm//35.csv (deflated 88%)\n",
            "  adding: content/850nm//40.csv (deflated 89%)\n",
            "  adding: content/850nm//27.csv (deflated 87%)\n"
          ]
        },
        {
          "output_type": "display_data",
          "data": {
            "text/plain": [
              "<IPython.core.display.Javascript object>"
            ],
            "application/javascript": [
              "\n",
              "    async function download(id, filename, size) {\n",
              "      if (!google.colab.kernel.accessAllowed) {\n",
              "        return;\n",
              "      }\n",
              "      const div = document.createElement('div');\n",
              "      const label = document.createElement('label');\n",
              "      label.textContent = `Downloading \"${filename}\": `;\n",
              "      div.appendChild(label);\n",
              "      const progress = document.createElement('progress');\n",
              "      progress.max = size;\n",
              "      div.appendChild(progress);\n",
              "      document.body.appendChild(div);\n",
              "\n",
              "      const buffers = [];\n",
              "      let downloaded = 0;\n",
              "\n",
              "      const channel = await google.colab.kernel.comms.open(id);\n",
              "      // Send a message to notify the kernel that we're ready.\n",
              "      channel.send({})\n",
              "\n",
              "      for await (const message of channel.messages) {\n",
              "        // Send a message to notify the kernel that we're ready.\n",
              "        channel.send({})\n",
              "        if (message.buffers) {\n",
              "          for (const buffer of message.buffers) {\n",
              "            buffers.push(buffer);\n",
              "            downloaded += buffer.byteLength;\n",
              "            progress.value = downloaded;\n",
              "          }\n",
              "        }\n",
              "      }\n",
              "      const blob = new Blob(buffers, {type: 'application/binary'});\n",
              "      const a = document.createElement('a');\n",
              "      a.href = window.URL.createObjectURL(blob);\n",
              "      a.download = filename;\n",
              "      div.appendChild(a);\n",
              "      a.click();\n",
              "      div.remove();\n",
              "    }\n",
              "  "
            ]
          },
          "metadata": {}
        },
        {
          "output_type": "display_data",
          "data": {
            "text/plain": [
              "<IPython.core.display.Javascript object>"
            ],
            "application/javascript": [
              "download(\"download_1d808707-9e04-431b-a927-bb2f602cbe2b\", \"850nm.zip\", 2127693)"
            ]
          },
          "metadata": {}
        },
        {
          "output_type": "stream",
          "name": "stdout",
          "text": [
            "  adding: content/940nm// (stored 0%)\n",
            "  adding: content/940nm//56.csv (deflated 87%)\n",
            "  adding: content/940nm//15.csv (deflated 88%)\n",
            "  adding: content/940nm//45.csv (deflated 89%)\n",
            "  adding: content/940nm//26.csv (deflated 87%)\n",
            "  adding: content/940nm//10.csv (deflated 88%)\n",
            "  adding: content/940nm//51.csv (deflated 88%)\n",
            "  adding: content/940nm//2.csv (deflated 88%)\n",
            "  adding: content/940nm//19.csv (deflated 87%)\n",
            "  adding: content/940nm//6.csv (deflated 87%)\n",
            "  adding: content/940nm//44.csv (deflated 87%)\n",
            "  adding: content/940nm//48.csv (deflated 88%)\n",
            "  adding: content/940nm//13.csv (deflated 88%)\n",
            "  adding: content/940nm//3.csv (deflated 88%)\n",
            "  adding: content/940nm//9.csv (deflated 87%)\n",
            "  adding: content/940nm//34.csv (deflated 89%)\n",
            "  adding: content/940nm//21.csv (deflated 89%)\n",
            "  adding: content/940nm//55.csv (deflated 87%)\n",
            "  adding: content/940nm//30.csv (deflated 89%)\n",
            "  adding: content/940nm//33.csv (deflated 87%)\n",
            "  adding: content/940nm//53.csv (deflated 87%)\n",
            "  adding: content/940nm//12.csv (deflated 88%)\n",
            "  adding: content/940nm//20.csv (deflated 89%)\n",
            "  adding: content/940nm//29.csv (deflated 89%)\n",
            "  adding: content/940nm//22.csv (deflated 89%)\n",
            "  adding: content/940nm//46.csv (deflated 87%)\n",
            "  adding: content/940nm//39.csv (deflated 87%)\n",
            "  adding: content/940nm//31.csv (deflated 88%)\n",
            "  adding: content/940nm//28.csv (deflated 88%)\n",
            "  adding: content/940nm//41.csv (deflated 89%)\n",
            "  adding: content/940nm//36.csv (deflated 88%)\n",
            "  adding: content/940nm//23.csv (deflated 87%)\n",
            "  adding: content/940nm//37.csv (deflated 88%)\n",
            "  adding: content/940nm//54.csv (deflated 88%)\n",
            "  adding: content/940nm//57.csv (deflated 88%)\n",
            "  adding: content/940nm//17.csv (deflated 88%)\n",
            "  adding: content/940nm//24.csv (deflated 89%)\n",
            "  adding: content/940nm//58.csv (deflated 88%)\n",
            "  adding: content/940nm//5.csv (deflated 88%)\n",
            "  adding: content/940nm//1.csv (deflated 87%)\n",
            "  adding: content/940nm//50.csv (deflated 87%)\n",
            "  adding: content/940nm//49.csv (deflated 88%)\n",
            "  adding: content/940nm//7.csv (deflated 88%)\n",
            "  adding: content/940nm//16.csv (deflated 88%)\n",
            "  adding: content/940nm//32.csv (deflated 87%)\n",
            "  adding: content/940nm//18.csv (deflated 88%)\n",
            "  adding: content/940nm//25.csv (deflated 88%)\n",
            "  adding: content/940nm//47.csv (deflated 87%)\n",
            "  adding: content/940nm//8.csv (deflated 88%)\n",
            "  adding: content/940nm//43.csv (deflated 88%)\n",
            "  adding: content/940nm//52.csv (deflated 89%)\n",
            "  adding: content/940nm//42.csv (deflated 88%)\n",
            "  adding: content/940nm//11.csv (deflated 88%)\n",
            "  adding: content/940nm//14.csv (deflated 88%)\n",
            "  adding: content/940nm//38.csv (deflated 88%)\n",
            "  adding: content/940nm//4.csv (deflated 88%)\n",
            "  adding: content/940nm//35.csv (deflated 88%)\n",
            "  adding: content/940nm//40.csv (deflated 88%)\n",
            "  adding: content/940nm//27.csv (deflated 88%)\n"
          ]
        },
        {
          "output_type": "display_data",
          "data": {
            "text/plain": [
              "<IPython.core.display.Javascript object>"
            ],
            "application/javascript": [
              "\n",
              "    async function download(id, filename, size) {\n",
              "      if (!google.colab.kernel.accessAllowed) {\n",
              "        return;\n",
              "      }\n",
              "      const div = document.createElement('div');\n",
              "      const label = document.createElement('label');\n",
              "      label.textContent = `Downloading \"${filename}\": `;\n",
              "      div.appendChild(label);\n",
              "      const progress = document.createElement('progress');\n",
              "      progress.max = size;\n",
              "      div.appendChild(progress);\n",
              "      document.body.appendChild(div);\n",
              "\n",
              "      const buffers = [];\n",
              "      let downloaded = 0;\n",
              "\n",
              "      const channel = await google.colab.kernel.comms.open(id);\n",
              "      // Send a message to notify the kernel that we're ready.\n",
              "      channel.send({})\n",
              "\n",
              "      for await (const message of channel.messages) {\n",
              "        // Send a message to notify the kernel that we're ready.\n",
              "        channel.send({})\n",
              "        if (message.buffers) {\n",
              "          for (const buffer of message.buffers) {\n",
              "            buffers.push(buffer);\n",
              "            downloaded += buffer.byteLength;\n",
              "            progress.value = downloaded;\n",
              "          }\n",
              "        }\n",
              "      }\n",
              "      const blob = new Blob(buffers, {type: 'application/binary'});\n",
              "      const a = document.createElement('a');\n",
              "      a.href = window.URL.createObjectURL(blob);\n",
              "      a.download = filename;\n",
              "      div.appendChild(a);\n",
              "      a.click();\n",
              "      div.remove();\n",
              "    }\n",
              "  "
            ]
          },
          "metadata": {}
        },
        {
          "output_type": "display_data",
          "data": {
            "text/plain": [
              "<IPython.core.display.Javascript object>"
            ],
            "application/javascript": [
              "download(\"download_bc7ef6e2-76c0-4e2e-aa12-4578eaea43d0\", \"940nm.zip\", 2102602)"
            ]
          },
          "metadata": {}
        }
      ]
    }
  ]
}